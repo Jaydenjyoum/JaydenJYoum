{
 "cells": [
  {
   "cell_type": "markdown",
   "metadata": {
    "pycharm": {
     "name": "#%% md\n"
    }
   },
   "source": [
    "# Data Science Pipe Line Tutorial\n",
    "Jayden J. Youm <br>"
   ]
  },
  {
   "cell_type": "markdown",
   "metadata": {
    "pycharm": {
     "name": "#%% md\n"
    }
   },
   "source": [
    "## 1. Introduction\n",
    "In this project, I want to see and analysis of the hate crime in the nation's biggest city; New York City. <br>\n",
    "\n",
    "### 1-1 Background information\n",
    "    In 2020 March, Covid virus attacked US. Since then, people in all over the world suffering and fighting with that disease.\n",
    "    Because Covid-19 starts in the Wuhan, China, the virus also called Wuhan Virus or China Virus.\n",
    "    Espeicially after former president Donald Trump kept publicly called it China Virus, there were many Asian-hate crime comitted.\n",
    "    Actually, one of my korean friend living NYC once told me that a random guy spat on her face while she was waiting in line at the restaurant.\n",
    "    called \"go back to your country\"\n",
    "\n",
    "    Hate crime is not only toward Asian. There ware two prominent movements in Covid era.\n",
    "    One is \"Black lives matter\", and the other is \"Stop Hate Asian.\"\n",
    "    \"Black Lives Matter\" movement started all around the US after George Floyd.\n",
    "    Lots of people march for the black people and talking about hate crime.\n",
    "\n",
    "    \"Stop Hate Asian\" movement has been flourished after gunshot in Atlanta, fighting for the literally asian hate.\n",
    "\n",
    "    As an Asian living in the US, I want to see how actually hate crime toward asian increased during covid,\n",
    "    and also want to see how hate crime toward black changed after \"black lives matter\" movement.\n",
    "    since both movement's aim is pretty simmilar, \"Stop hate Black people\" and \"Stop hate Asian people\"\n",
    "\n",
    "    before the beginning I assumed that the anti-asian crime is still increasing, but since it has been a while we started BLM movement,\n",
    "    I made a hypothesis that the Hate crime toward black people decreased significantly start at George Floyd.\n",
    "\n",
    "### 1-2 Libraries\n",
    "    to start, we need to import some libraries for gathering data from the online. All the libraries are below\n",
    "    I used pandas for organizing dataframe.\n",
    "    matplotlib to visualize the data by drawing graphs.\n",
    "    sklearn.linear_model to draw regression line so that I can predict with the given data."
   ]
  },
  {
   "cell_type": "code",
   "execution_count": 1177,
   "metadata": {
    "pycharm": {
     "name": "#%%\n"
    }
   },
   "outputs": [],
   "source": [
    "import pandas as pd\n",
    "import matplotlib.pyplot as plt\n",
    "from sklearn.linear_model import LinearRegression"
   ]
  },
  {
   "cell_type": "markdown",
   "metadata": {},
   "source": [
    "## 2. Data Collection\n",
    "    to get the data, I download CSV file from the Data.gov website.\n",
    "    Data is showing all the hate crime between Jan 2019 and March 2021 in New York City.\n",
    "    I chose this data because NYC is the biggest city in the US and also very diverse, and the data is very recent\n",
    "    so that this data can represent the current situation in general."
   ]
  },
  {
   "cell_type": "code",
   "execution_count": 1178,
   "metadata": {
    "pycharm": {
     "name": "#%%\n"
    }
   },
   "outputs": [
    {
     "data": {
      "text/html": [
       "<div>\n",
       "<style scoped>\n",
       "    .dataframe tbody tr th:only-of-type {\n",
       "        vertical-align: middle;\n",
       "    }\n",
       "\n",
       "    .dataframe tbody tr th {\n",
       "        vertical-align: top;\n",
       "    }\n",
       "\n",
       "    .dataframe thead th {\n",
       "        text-align: right;\n",
       "    }\n",
       "</style>\n",
       "<table border=\"1\" class=\"dataframe\">\n",
       "  <thead>\n",
       "    <tr style=\"text-align: right;\">\n",
       "      <th></th>\n",
       "      <th>Full Complaint ID</th>\n",
       "      <th>Complaint Year Number</th>\n",
       "      <th>Month Number</th>\n",
       "      <th>Record Create Date</th>\n",
       "      <th>Complaint Precinct Code</th>\n",
       "      <th>Patrol Borough Name</th>\n",
       "      <th>County</th>\n",
       "      <th>Law Code Category Description</th>\n",
       "      <th>Offense Description</th>\n",
       "      <th>PD Code Description</th>\n",
       "      <th>Bias Motive Description</th>\n",
       "      <th>Offense Category</th>\n",
       "      <th>Other Motive Description</th>\n",
       "      <th>Arrest Date</th>\n",
       "      <th>Arrest Id</th>\n",
       "    </tr>\n",
       "  </thead>\n",
       "  <tbody>\n",
       "    <tr>\n",
       "      <th>0</th>\n",
       "      <td>201900112220917</td>\n",
       "      <td>2019</td>\n",
       "      <td>3</td>\n",
       "      <td>03/07/2019</td>\n",
       "      <td>1</td>\n",
       "      <td>PATROL BORO MAN SOUTH</td>\n",
       "      <td>NEW YORK</td>\n",
       "      <td>FELONY</td>\n",
       "      <td>MISCELLANEOUS PENAL LAW</td>\n",
       "      <td>AGGRAVATED HARASSMENT 1</td>\n",
       "      <td>ANTI-JEWISH</td>\n",
       "      <td>Religion/Religious Practice</td>\n",
       "      <td>NaN</td>\n",
       "      <td>NaN</td>\n",
       "      <td>NaN</td>\n",
       "    </tr>\n",
       "    <tr>\n",
       "      <th>1</th>\n",
       "      <td>201900112125917</td>\n",
       "      <td>2019</td>\n",
       "      <td>1</td>\n",
       "      <td>01/24/2019</td>\n",
       "      <td>1</td>\n",
       "      <td>PATROL BORO MAN SOUTH</td>\n",
       "      <td>NEW YORK</td>\n",
       "      <td>MISDEMEANOR</td>\n",
       "      <td>CRIMINAL MISCHIEF &amp; RELATED OF</td>\n",
       "      <td>CRIMINAL MISCHIEF 4TH, GRAFFIT</td>\n",
       "      <td>ANTI-JEWISH</td>\n",
       "      <td>Religion/Religious Practice</td>\n",
       "      <td>NaN</td>\n",
       "      <td>NaN</td>\n",
       "      <td>NaN</td>\n",
       "    </tr>\n",
       "    <tr>\n",
       "      <th>2</th>\n",
       "      <td>202100112173517</td>\n",
       "      <td>2021</td>\n",
       "      <td>3</td>\n",
       "      <td>03/06/2021</td>\n",
       "      <td>1</td>\n",
       "      <td>PATROL BORO MAN SOUTH</td>\n",
       "      <td>NEW YORK</td>\n",
       "      <td>FELONY</td>\n",
       "      <td>FELONY ASSAULT</td>\n",
       "      <td>ASSAULT 2,1,UNCLASSIFIED</td>\n",
       "      <td>ANTI-HISPANIC</td>\n",
       "      <td>Ethnicity/National Origin/Ancestry</td>\n",
       "      <td>NaN</td>\n",
       "      <td>NaN</td>\n",
       "      <td>NaN</td>\n",
       "    </tr>\n",
       "    <tr>\n",
       "      <th>3</th>\n",
       "      <td>201900112442817</td>\n",
       "      <td>2019</td>\n",
       "      <td>6</td>\n",
       "      <td>06/08/2019</td>\n",
       "      <td>1</td>\n",
       "      <td>PATROL BORO MAN SOUTH</td>\n",
       "      <td>NEW YORK</td>\n",
       "      <td>FELONY</td>\n",
       "      <td>FELONY ASSAULT</td>\n",
       "      <td>ASSAULT 2,1,UNCLASSIFIED</td>\n",
       "      <td>ANTI-MUSLIM</td>\n",
       "      <td>Religion/Religious Practice</td>\n",
       "      <td>NaN</td>\n",
       "      <td>06/08/2019</td>\n",
       "      <td>M19626067</td>\n",
       "    </tr>\n",
       "    <tr>\n",
       "      <th>4</th>\n",
       "      <td>201900112618217</td>\n",
       "      <td>2019</td>\n",
       "      <td>8</td>\n",
       "      <td>08/14/2019</td>\n",
       "      <td>1</td>\n",
       "      <td>PATROL BORO MAN SOUTH</td>\n",
       "      <td>NEW YORK</td>\n",
       "      <td>FELONY</td>\n",
       "      <td>FELONY ASSAULT</td>\n",
       "      <td>ASSAULT 2,1,UNCLASSIFIED</td>\n",
       "      <td>ANTI-WHITE</td>\n",
       "      <td>Race/Color</td>\n",
       "      <td>NaN</td>\n",
       "      <td>NaN</td>\n",
       "      <td>NaN</td>\n",
       "    </tr>\n",
       "    <tr>\n",
       "      <th>...</th>\n",
       "      <td>...</td>\n",
       "      <td>...</td>\n",
       "      <td>...</td>\n",
       "      <td>...</td>\n",
       "      <td>...</td>\n",
       "      <td>...</td>\n",
       "      <td>...</td>\n",
       "      <td>...</td>\n",
       "      <td>...</td>\n",
       "      <td>...</td>\n",
       "      <td>...</td>\n",
       "      <td>...</td>\n",
       "      <td>...</td>\n",
       "      <td>...</td>\n",
       "      <td>...</td>\n",
       "    </tr>\n",
       "    <tr>\n",
       "      <th>827</th>\n",
       "      <td>201912212568117</td>\n",
       "      <td>2019</td>\n",
       "      <td>10</td>\n",
       "      <td>10/26/2019</td>\n",
       "      <td>122</td>\n",
       "      <td>PATROL BORO STATEN ISLAND</td>\n",
       "      <td>RICHMOND</td>\n",
       "      <td>MISDEMEANOR</td>\n",
       "      <td>CRIMINAL MISCHIEF &amp; RELATED OF</td>\n",
       "      <td>CRIMINAL MISCHIEF 4TH, GRAFFIT</td>\n",
       "      <td>ANTI-BLACK</td>\n",
       "      <td>Race/Color</td>\n",
       "      <td>NaN</td>\n",
       "      <td>NaN</td>\n",
       "      <td>NaN</td>\n",
       "    </tr>\n",
       "    <tr>\n",
       "      <th>828</th>\n",
       "      <td>201912212498017</td>\n",
       "      <td>2019</td>\n",
       "      <td>9</td>\n",
       "      <td>09/15/2019</td>\n",
       "      <td>122</td>\n",
       "      <td>PATROL BORO STATEN ISLAND</td>\n",
       "      <td>RICHMOND</td>\n",
       "      <td>MISDEMEANOR</td>\n",
       "      <td>ASSAULT 3 &amp; RELATED OFFENSES</td>\n",
       "      <td>ASSAULT 3</td>\n",
       "      <td>ANTI-MALE HOMOSEXUAL (GAY)</td>\n",
       "      <td>Sexual Orientation</td>\n",
       "      <td>NaN</td>\n",
       "      <td>NaN</td>\n",
       "      <td>NaN</td>\n",
       "    </tr>\n",
       "    <tr>\n",
       "      <th>829</th>\n",
       "      <td>201912212334717</td>\n",
       "      <td>2019</td>\n",
       "      <td>6</td>\n",
       "      <td>06/10/2019</td>\n",
       "      <td>122</td>\n",
       "      <td>PATROL BORO STATEN ISLAND</td>\n",
       "      <td>RICHMOND</td>\n",
       "      <td>FELONY</td>\n",
       "      <td>CRIMINAL MISCHIEF &amp; RELATED OF</td>\n",
       "      <td>MISCHIEF,CRIMINAL,    UNCL 2ND</td>\n",
       "      <td>ANTI-JEWISH</td>\n",
       "      <td>Religion/Religious Practice</td>\n",
       "      <td>NaN</td>\n",
       "      <td>NaN</td>\n",
       "      <td>NaN</td>\n",
       "    </tr>\n",
       "    <tr>\n",
       "      <th>830</th>\n",
       "      <td>202012312240017</td>\n",
       "      <td>2020</td>\n",
       "      <td>8</td>\n",
       "      <td>08/06/2020</td>\n",
       "      <td>123</td>\n",
       "      <td>PATROL BORO STATEN ISLAND</td>\n",
       "      <td>RICHMOND</td>\n",
       "      <td>MISDEMEANOR</td>\n",
       "      <td>CRIMINAL MISCHIEF &amp; RELATED OF</td>\n",
       "      <td>CRIMINAL MISCHIEF 4TH, GRAFFIT</td>\n",
       "      <td>ANTI-BLACK</td>\n",
       "      <td>Race/Color</td>\n",
       "      <td>NaN</td>\n",
       "      <td>NaN</td>\n",
       "      <td>NaN</td>\n",
       "    </tr>\n",
       "    <tr>\n",
       "      <th>831</th>\n",
       "      <td>201912312372817</td>\n",
       "      <td>2019</td>\n",
       "      <td>12</td>\n",
       "      <td>12/28/2019</td>\n",
       "      <td>123</td>\n",
       "      <td>PATROL BORO STATEN ISLAND</td>\n",
       "      <td>RICHMOND</td>\n",
       "      <td>MISDEMEANOR</td>\n",
       "      <td>CRIMINAL MISCHIEF &amp; RELATED OF</td>\n",
       "      <td>CRIMINAL MISCHIEF,UNCLASSIFIED 4</td>\n",
       "      <td>ANTI-BLACK</td>\n",
       "      <td>Race/Color</td>\n",
       "      <td>NaN</td>\n",
       "      <td>NaN</td>\n",
       "      <td>NaN</td>\n",
       "    </tr>\n",
       "  </tbody>\n",
       "</table>\n",
       "<p>832 rows × 15 columns</p>\n",
       "</div>"
      ],
      "text/plain": [
       "     Full Complaint ID  Complaint Year Number  Month Number  \\\n",
       "0      201900112220917                   2019             3   \n",
       "1      201900112125917                   2019             1   \n",
       "2      202100112173517                   2021             3   \n",
       "3      201900112442817                   2019             6   \n",
       "4      201900112618217                   2019             8   \n",
       "..                 ...                    ...           ...   \n",
       "827    201912212568117                   2019            10   \n",
       "828    201912212498017                   2019             9   \n",
       "829    201912212334717                   2019             6   \n",
       "830    202012312240017                   2020             8   \n",
       "831    201912312372817                   2019            12   \n",
       "\n",
       "    Record Create Date  Complaint Precinct Code        Patrol Borough Name  \\\n",
       "0           03/07/2019                        1      PATROL BORO MAN SOUTH   \n",
       "1           01/24/2019                        1      PATROL BORO MAN SOUTH   \n",
       "2           03/06/2021                        1      PATROL BORO MAN SOUTH   \n",
       "3           06/08/2019                        1      PATROL BORO MAN SOUTH   \n",
       "4           08/14/2019                        1      PATROL BORO MAN SOUTH   \n",
       "..                 ...                      ...                        ...   \n",
       "827         10/26/2019                      122  PATROL BORO STATEN ISLAND   \n",
       "828         09/15/2019                      122  PATROL BORO STATEN ISLAND   \n",
       "829         06/10/2019                      122  PATROL BORO STATEN ISLAND   \n",
       "830         08/06/2020                      123  PATROL BORO STATEN ISLAND   \n",
       "831         12/28/2019                      123  PATROL BORO STATEN ISLAND   \n",
       "\n",
       "       County Law Code Category Description             Offense Description  \\\n",
       "0    NEW YORK                        FELONY         MISCELLANEOUS PENAL LAW   \n",
       "1    NEW YORK                   MISDEMEANOR  CRIMINAL MISCHIEF & RELATED OF   \n",
       "2    NEW YORK                        FELONY                  FELONY ASSAULT   \n",
       "3    NEW YORK                        FELONY                  FELONY ASSAULT   \n",
       "4    NEW YORK                        FELONY                  FELONY ASSAULT   \n",
       "..        ...                           ...                             ...   \n",
       "827  RICHMOND                   MISDEMEANOR  CRIMINAL MISCHIEF & RELATED OF   \n",
       "828  RICHMOND                   MISDEMEANOR    ASSAULT 3 & RELATED OFFENSES   \n",
       "829  RICHMOND                        FELONY  CRIMINAL MISCHIEF & RELATED OF   \n",
       "830  RICHMOND                   MISDEMEANOR  CRIMINAL MISCHIEF & RELATED OF   \n",
       "831  RICHMOND                   MISDEMEANOR  CRIMINAL MISCHIEF & RELATED OF   \n",
       "\n",
       "                  PD Code Description     Bias Motive Description  \\\n",
       "0             AGGRAVATED HARASSMENT 1                 ANTI-JEWISH   \n",
       "1      CRIMINAL MISCHIEF 4TH, GRAFFIT                 ANTI-JEWISH   \n",
       "2            ASSAULT 2,1,UNCLASSIFIED               ANTI-HISPANIC   \n",
       "3            ASSAULT 2,1,UNCLASSIFIED                 ANTI-MUSLIM   \n",
       "4            ASSAULT 2,1,UNCLASSIFIED                  ANTI-WHITE   \n",
       "..                                ...                         ...   \n",
       "827    CRIMINAL MISCHIEF 4TH, GRAFFIT                  ANTI-BLACK   \n",
       "828                         ASSAULT 3  ANTI-MALE HOMOSEXUAL (GAY)   \n",
       "829    MISCHIEF,CRIMINAL,    UNCL 2ND                 ANTI-JEWISH   \n",
       "830    CRIMINAL MISCHIEF 4TH, GRAFFIT                  ANTI-BLACK   \n",
       "831  CRIMINAL MISCHIEF,UNCLASSIFIED 4                  ANTI-BLACK   \n",
       "\n",
       "                       Offense Category  Other Motive Description Arrest Date  \\\n",
       "0           Religion/Religious Practice                       NaN         NaN   \n",
       "1           Religion/Religious Practice                       NaN         NaN   \n",
       "2    Ethnicity/National Origin/Ancestry                       NaN         NaN   \n",
       "3           Religion/Religious Practice                       NaN  06/08/2019   \n",
       "4                            Race/Color                       NaN         NaN   \n",
       "..                                  ...                       ...         ...   \n",
       "827                          Race/Color                       NaN         NaN   \n",
       "828                  Sexual Orientation                       NaN         NaN   \n",
       "829         Religion/Religious Practice                       NaN         NaN   \n",
       "830                          Race/Color                       NaN         NaN   \n",
       "831                          Race/Color                       NaN         NaN   \n",
       "\n",
       "     Arrest Id  \n",
       "0          NaN  \n",
       "1          NaN  \n",
       "2          NaN  \n",
       "3    M19626067  \n",
       "4          NaN  \n",
       "..         ...  \n",
       "827        NaN  \n",
       "828        NaN  \n",
       "829        NaN  \n",
       "830        NaN  \n",
       "831        NaN  \n",
       "\n",
       "[832 rows x 15 columns]"
      ]
     },
     "execution_count": 1178,
     "metadata": {},
     "output_type": "execute_result"
    }
   ],
   "source": [
    "df = pd.read_csv(\"NYPD_Hate_Crimes.csv\")\n",
    "df"
   ]
  },
  {
   "cell_type": "markdown",
   "metadata": {
    "pycharm": {
     "name": "#%% md\n"
    }
   },
   "source": [
    "## 3. Data management/representation\n",
    "    first remove unwanted columns. in this project I want to see the number of hate-crime by month.\n",
    "    so only get the year and month, Bias Motive Description and Offense Category.\n",
    "    to make it year and month tidy and make it in order easily, make a month with 2 digit with leading zeros,\n",
    "    and combine with year and month."
   ]
  },
  {
   "cell_type": "code",
   "execution_count": 1179,
   "metadata": {
    "pycharm": {
     "name": "#%%\n"
    }
   },
   "outputs": [
    {
     "data": {
      "text/html": [
       "<div>\n",
       "<style scoped>\n",
       "    .dataframe tbody tr th:only-of-type {\n",
       "        vertical-align: middle;\n",
       "    }\n",
       "\n",
       "    .dataframe tbody tr th {\n",
       "        vertical-align: top;\n",
       "    }\n",
       "\n",
       "    .dataframe thead th {\n",
       "        text-align: right;\n",
       "    }\n",
       "</style>\n",
       "<table border=\"1\" class=\"dataframe\">\n",
       "  <thead>\n",
       "    <tr style=\"text-align: right;\">\n",
       "      <th></th>\n",
       "      <th>year_month</th>\n",
       "      <th>Bias Motive Description</th>\n",
       "      <th>Offense Category</th>\n",
       "    </tr>\n",
       "  </thead>\n",
       "  <tbody>\n",
       "    <tr>\n",
       "      <th>0</th>\n",
       "      <td>2019.03</td>\n",
       "      <td>ANTI-JEWISH</td>\n",
       "      <td>Religion/Religious Practice</td>\n",
       "    </tr>\n",
       "    <tr>\n",
       "      <th>1</th>\n",
       "      <td>2019.01</td>\n",
       "      <td>ANTI-JEWISH</td>\n",
       "      <td>Religion/Religious Practice</td>\n",
       "    </tr>\n",
       "    <tr>\n",
       "      <th>2</th>\n",
       "      <td>2021.03</td>\n",
       "      <td>ANTI-HISPANIC</td>\n",
       "      <td>Ethnicity/National Origin/Ancestry</td>\n",
       "    </tr>\n",
       "    <tr>\n",
       "      <th>3</th>\n",
       "      <td>2019.06</td>\n",
       "      <td>ANTI-MUSLIM</td>\n",
       "      <td>Religion/Religious Practice</td>\n",
       "    </tr>\n",
       "    <tr>\n",
       "      <th>4</th>\n",
       "      <td>2019.08</td>\n",
       "      <td>ANTI-WHITE</td>\n",
       "      <td>Race/Color</td>\n",
       "    </tr>\n",
       "    <tr>\n",
       "      <th>...</th>\n",
       "      <td>...</td>\n",
       "      <td>...</td>\n",
       "      <td>...</td>\n",
       "    </tr>\n",
       "    <tr>\n",
       "      <th>827</th>\n",
       "      <td>2019.10</td>\n",
       "      <td>ANTI-BLACK</td>\n",
       "      <td>Race/Color</td>\n",
       "    </tr>\n",
       "    <tr>\n",
       "      <th>828</th>\n",
       "      <td>2019.09</td>\n",
       "      <td>ANTI-MALE HOMOSEXUAL (GAY)</td>\n",
       "      <td>Sexual Orientation</td>\n",
       "    </tr>\n",
       "    <tr>\n",
       "      <th>829</th>\n",
       "      <td>2019.06</td>\n",
       "      <td>ANTI-JEWISH</td>\n",
       "      <td>Religion/Religious Practice</td>\n",
       "    </tr>\n",
       "    <tr>\n",
       "      <th>830</th>\n",
       "      <td>2020.08</td>\n",
       "      <td>ANTI-BLACK</td>\n",
       "      <td>Race/Color</td>\n",
       "    </tr>\n",
       "    <tr>\n",
       "      <th>831</th>\n",
       "      <td>2019.12</td>\n",
       "      <td>ANTI-BLACK</td>\n",
       "      <td>Race/Color</td>\n",
       "    </tr>\n",
       "  </tbody>\n",
       "</table>\n",
       "<p>832 rows × 3 columns</p>\n",
       "</div>"
      ],
      "text/plain": [
       "    year_month     Bias Motive Description                    Offense Category\n",
       "0      2019.03                 ANTI-JEWISH         Religion/Religious Practice\n",
       "1      2019.01                 ANTI-JEWISH         Religion/Religious Practice\n",
       "2      2021.03               ANTI-HISPANIC  Ethnicity/National Origin/Ancestry\n",
       "3      2019.06                 ANTI-MUSLIM         Religion/Religious Practice\n",
       "4      2019.08                  ANTI-WHITE                          Race/Color\n",
       "..         ...                         ...                                 ...\n",
       "827    2019.10                  ANTI-BLACK                          Race/Color\n",
       "828    2019.09  ANTI-MALE HOMOSEXUAL (GAY)                  Sexual Orientation\n",
       "829    2019.06                 ANTI-JEWISH         Religion/Religious Practice\n",
       "830    2020.08                  ANTI-BLACK                          Race/Color\n",
       "831    2019.12                  ANTI-BLACK                          Race/Color\n",
       "\n",
       "[832 rows x 3 columns]"
      ]
     },
     "execution_count": 1179,
     "metadata": {},
     "output_type": "execute_result"
    }
   ],
   "source": [
    "df[\"Month Number\"] = df[\"Month Number\"].astype(str)\n",
    "df[\"Month Number\"] = df[\"Month Number\"].str.zfill(2)\n",
    "#adding leading 0 on the month, so that I can organize in order easily.\n",
    "df[\"year_month\"] = df[\"Complaint Year Number\"].astype(str)+\".\"+df[\"Month Number\"].astype(str)\n",
    "df = df[[\"year_month\",\"Bias Motive Description\",\"Offense Category\"]]\n",
    "df"
   ]
  },
  {
   "cell_type": "code",
   "execution_count": 1180,
   "metadata": {
    "pycharm": {
     "name": "#%%\n"
    }
   },
   "outputs": [
    {
     "data": {
      "text/html": [
       "<div>\n",
       "<style scoped>\n",
       "    .dataframe tbody tr th:only-of-type {\n",
       "        vertical-align: middle;\n",
       "    }\n",
       "\n",
       "    .dataframe tbody tr th {\n",
       "        vertical-align: top;\n",
       "    }\n",
       "\n",
       "    .dataframe thead th {\n",
       "        text-align: right;\n",
       "    }\n",
       "</style>\n",
       "<table border=\"1\" class=\"dataframe\">\n",
       "  <thead>\n",
       "    <tr style=\"text-align: right;\">\n",
       "      <th></th>\n",
       "      <th>year_month</th>\n",
       "      <th>Bias Motive Description</th>\n",
       "      <th>amount</th>\n",
       "    </tr>\n",
       "  </thead>\n",
       "  <tbody>\n",
       "    <tr>\n",
       "      <th>0</th>\n",
       "      <td>2019.03</td>\n",
       "      <td>ANTI-JEWISH</td>\n",
       "      <td></td>\n",
       "    </tr>\n",
       "    <tr>\n",
       "      <th>1</th>\n",
       "      <td>2019.01</td>\n",
       "      <td>ANTI-JEWISH</td>\n",
       "      <td></td>\n",
       "    </tr>\n",
       "    <tr>\n",
       "      <th>2</th>\n",
       "      <td>2021.03</td>\n",
       "      <td>ANTI-HISPANIC</td>\n",
       "      <td></td>\n",
       "    </tr>\n",
       "    <tr>\n",
       "      <th>3</th>\n",
       "      <td>2019.06</td>\n",
       "      <td>ANTI-MUSLIM</td>\n",
       "      <td></td>\n",
       "    </tr>\n",
       "    <tr>\n",
       "      <th>4</th>\n",
       "      <td>2019.08</td>\n",
       "      <td>ANTI-WHITE</td>\n",
       "      <td></td>\n",
       "    </tr>\n",
       "    <tr>\n",
       "      <th>...</th>\n",
       "      <td>...</td>\n",
       "      <td>...</td>\n",
       "      <td>...</td>\n",
       "    </tr>\n",
       "    <tr>\n",
       "      <th>827</th>\n",
       "      <td>2019.10</td>\n",
       "      <td>ANTI-BLACK</td>\n",
       "      <td></td>\n",
       "    </tr>\n",
       "    <tr>\n",
       "      <th>828</th>\n",
       "      <td>2019.09</td>\n",
       "      <td>ANTI-MALE HOMOSEXUAL (GAY)</td>\n",
       "      <td></td>\n",
       "    </tr>\n",
       "    <tr>\n",
       "      <th>829</th>\n",
       "      <td>2019.06</td>\n",
       "      <td>ANTI-JEWISH</td>\n",
       "      <td></td>\n",
       "    </tr>\n",
       "    <tr>\n",
       "      <th>830</th>\n",
       "      <td>2020.08</td>\n",
       "      <td>ANTI-BLACK</td>\n",
       "      <td></td>\n",
       "    </tr>\n",
       "    <tr>\n",
       "      <th>831</th>\n",
       "      <td>2019.12</td>\n",
       "      <td>ANTI-BLACK</td>\n",
       "      <td></td>\n",
       "    </tr>\n",
       "  </tbody>\n",
       "</table>\n",
       "<p>832 rows × 3 columns</p>\n",
       "</div>"
      ],
      "text/plain": [
       "    year_month     Bias Motive Description amount\n",
       "0      2019.03                 ANTI-JEWISH       \n",
       "1      2019.01                 ANTI-JEWISH       \n",
       "2      2021.03               ANTI-HISPANIC       \n",
       "3      2019.06                 ANTI-MUSLIM       \n",
       "4      2019.08                  ANTI-WHITE       \n",
       "..         ...                         ...    ...\n",
       "827    2019.10                  ANTI-BLACK       \n",
       "828    2019.09  ANTI-MALE HOMOSEXUAL (GAY)       \n",
       "829    2019.06                 ANTI-JEWISH       \n",
       "830    2020.08                  ANTI-BLACK       \n",
       "831    2019.12                  ANTI-BLACK       \n",
       "\n",
       "[832 rows x 3 columns]"
      ]
     },
     "execution_count": 1180,
     "metadata": {},
     "output_type": "execute_result"
    }
   ],
   "source": [
    "df2 = df.copy()\n",
    "df2.sort_values(\"year_month\", ascending= True)\n",
    "# sorting by the year.month\n",
    "df2 = df2.reset_index()\n",
    "df2 = df2[[\"year_month\", \"Bias Motive Description\"]]\n",
    "df2[\"amount\"] = \"\"\n",
    "df2"
   ]
  },
  {
   "cell_type": "code",
   "execution_count": 1181,
   "metadata": {
    "pycharm": {
     "name": "#%%\n"
    }
   },
   "outputs": [
    {
     "data": {
      "text/plain": [
       "year_month  Bias Motive Description   \n",
       "2019.01     ANTI-ASIAN                     1\n",
       "            ANTI-BLACK                     2\n",
       "            ANTI-BUDDHIST                  1\n",
       "            ANTI-CATHOLIC                  1\n",
       "            ANTI-JEWISH                   29\n",
       "                                          ..\n",
       "2021.03     ANTI-HISPANIC                  1\n",
       "            ANTI-JEWISH                   14\n",
       "            ANTI-MALE HOMOSEXUAL (GAY)     1\n",
       "2021.12     ANTI-BLACK                     1\n",
       "            ANTI-LGBT (MIXED GROUP)        1\n",
       "Name: amount, Length: 204, dtype: int64"
      ]
     },
     "execution_count": 1181,
     "metadata": {},
     "output_type": "execute_result"
    }
   ],
   "source": [
    "all_crime = df2.groupby([\"year_month\", \"Bias Motive Description\"]).count()[\"amount\"]\n",
    "all_crime"
   ]
  },
  {
   "cell_type": "code",
   "execution_count": 1182,
   "metadata": {
    "pycharm": {
     "name": "#%%\n"
    }
   },
   "outputs": [
    {
     "data": {
      "text/plain": [
       "Text(0.5, 1.0, 'the Number of each hate crime by month from 2019 to 2021')"
      ]
     },
     "execution_count": 1182,
     "metadata": {},
     "output_type": "execute_result"
    },
    {
     "data": {
      "image/png": "[encoded data removed]",
      "text/plain": [
       "<Figure size 1080x504 with 1 Axes>"
      ]
     },
     "metadata": {
      "needs_background": "light"
     },
     "output_type": "display_data"
    }
   ],
   "source": [
    "fig, ax = plt.subplots(figsize=(15,7))\n",
    "all_crime.unstack().plot(ax=ax, kind = \"bar\")\n",
    "ax.set_xlabel(\"Year and Month\")\n",
    "ax.set_ylabel(\"the Number of Crime\")\n",
    "ax.set_title(\"the Number of each hate crime by month from 2019 to 2021\")"
   ]
  },
  {
   "cell_type": "markdown",
   "metadata": {},
   "source": [
    "## 4-1. Data Analysis and visualization (figure 1)\n",
    "    above bar graph shows the all hate crimes between Jan 2019 and 2021 march.\n",
    "    Anti-jewish crime is the dominant crime among the all hate crimes.\n",
    "    to simplify graph, we are going to modify table to see a better result."
   ]
  },
  {
   "cell_type": "markdown",
   "metadata": {
    "pycharm": {
     "name": "#%% md\n"
    }
   },
   "source": [
    "    since the information we want is just hate crime related to race. choose race/color category.\n",
    "    and make a table for only offences related to race."
   ]
  },
  {
   "cell_type": "code",
   "execution_count": 1183,
   "metadata": {
    "pycharm": {
     "name": "#%%\n"
    }
   },
   "outputs": [
    {
     "data": {
      "text/html": [
       "<div>\n",
       "<style scoped>\n",
       "    .dataframe tbody tr th:only-of-type {\n",
       "        vertical-align: middle;\n",
       "    }\n",
       "\n",
       "    .dataframe tbody tr th {\n",
       "        vertical-align: top;\n",
       "    }\n",
       "\n",
       "    .dataframe thead th {\n",
       "        text-align: right;\n",
       "    }\n",
       "</style>\n",
       "<table border=\"1\" class=\"dataframe\">\n",
       "  <thead>\n",
       "    <tr style=\"text-align: right;\">\n",
       "      <th></th>\n",
       "      <th>year_month</th>\n",
       "      <th>Bias Motive Description</th>\n",
       "      <th>amount</th>\n",
       "    </tr>\n",
       "  </thead>\n",
       "  <tbody>\n",
       "    <tr>\n",
       "      <th>0</th>\n",
       "      <td>2019.08</td>\n",
       "      <td>ANTI-WHITE</td>\n",
       "      <td></td>\n",
       "    </tr>\n",
       "    <tr>\n",
       "      <th>1</th>\n",
       "      <td>2020.02</td>\n",
       "      <td>ANTI-WHITE</td>\n",
       "      <td></td>\n",
       "    </tr>\n",
       "    <tr>\n",
       "      <th>2</th>\n",
       "      <td>2021.03</td>\n",
       "      <td>ANTI-ASIAN</td>\n",
       "      <td></td>\n",
       "    </tr>\n",
       "    <tr>\n",
       "      <th>3</th>\n",
       "      <td>2021.03</td>\n",
       "      <td>ANTI-ASIAN</td>\n",
       "      <td></td>\n",
       "    </tr>\n",
       "    <tr>\n",
       "      <th>4</th>\n",
       "      <td>2019.05</td>\n",
       "      <td>ANTI-BLACK</td>\n",
       "      <td></td>\n",
       "    </tr>\n",
       "    <tr>\n",
       "      <th>...</th>\n",
       "      <td>...</td>\n",
       "      <td>...</td>\n",
       "      <td>...</td>\n",
       "    </tr>\n",
       "    <tr>\n",
       "      <th>202</th>\n",
       "      <td>2019.01</td>\n",
       "      <td>ANTI-BLACK</td>\n",
       "      <td></td>\n",
       "    </tr>\n",
       "    <tr>\n",
       "      <th>203</th>\n",
       "      <td>2020.06</td>\n",
       "      <td>ANTI-WHITE</td>\n",
       "      <td></td>\n",
       "    </tr>\n",
       "    <tr>\n",
       "      <th>204</th>\n",
       "      <td>2019.10</td>\n",
       "      <td>ANTI-BLACK</td>\n",
       "      <td></td>\n",
       "    </tr>\n",
       "    <tr>\n",
       "      <th>205</th>\n",
       "      <td>2020.08</td>\n",
       "      <td>ANTI-BLACK</td>\n",
       "      <td></td>\n",
       "    </tr>\n",
       "    <tr>\n",
       "      <th>206</th>\n",
       "      <td>2019.12</td>\n",
       "      <td>ANTI-BLACK</td>\n",
       "      <td></td>\n",
       "    </tr>\n",
       "  </tbody>\n",
       "</table>\n",
       "<p>207 rows × 3 columns</p>\n",
       "</div>"
      ],
      "text/plain": [
       "    year_month Bias Motive Description amount\n",
       "0      2019.08              ANTI-WHITE       \n",
       "1      2020.02              ANTI-WHITE       \n",
       "2      2021.03              ANTI-ASIAN       \n",
       "3      2021.03              ANTI-ASIAN       \n",
       "4      2019.05              ANTI-BLACK       \n",
       "..         ...                     ...    ...\n",
       "202    2019.01              ANTI-BLACK       \n",
       "203    2020.06              ANTI-WHITE       \n",
       "204    2019.10              ANTI-BLACK       \n",
       "205    2020.08              ANTI-BLACK       \n",
       "206    2019.12              ANTI-BLACK       \n",
       "\n",
       "[207 rows x 3 columns]"
      ]
     },
     "execution_count": 1183,
     "metadata": {},
     "output_type": "execute_result"
    }
   ],
   "source": [
    "option = [\"Race/Color\"]\n",
    "racist = df.loc[df[\"Offense Category\"].isin(option)]\n",
    "racist.sort_values(\"year_month\", ascending= True)\n",
    "racist = racist.reset_index()\n",
    "racist = racist[[\"year_month\", \"Bias Motive Description\"]]\n",
    "racist[\"amount\"] = \"\"\n",
    "racist"
   ]
  },
  {
   "cell_type": "markdown",
   "metadata": {
    "pycharm": {
     "name": "#%% md\n"
    }
   },
   "source": [
    "    make a table by counting all the felony based on bias motive description and year_month"
   ]
  },
  {
   "cell_type": "code",
   "execution_count": 1184,
   "metadata": {
    "pycharm": {
     "name": "#%%\n"
    }
   },
   "outputs": [
    {
     "data": {
      "text/plain": [
       "year_month  Bias Motive Description \n",
       "2019.01     ANTI-ASIAN                   1\n",
       "            ANTI-BLACK                   2\n",
       "            ANTI-WHITE                   1\n",
       "2019.02     ANTI-BLACK                   3\n",
       "            ANTI-WHITE                   2\n",
       "2019.03     ANTI-BLACK                   7\n",
       "            ANTI-WHITE                   8\n",
       "2019.04     ANTI-BLACK                   4\n",
       "2019.05     ANTI-BLACK                   1\n",
       "2019.06     ANTI-BLACK                   4\n",
       "            ANTI-WHITE                   1\n",
       "2019.07     ANTI-BLACK                   5\n",
       "            ANTI-WHITE                   1\n",
       "2019.08     ANTI-BLACK                   2\n",
       "            ANTI-MULTI-RACIAL GROUPS     1\n",
       "            ANTI-WHITE                  10\n",
       "2019.09     ANTI-BLACK                   1\n",
       "            ANTI-WHITE                   1\n",
       "2019.10     ANTI-BLACK                   4\n",
       "            ANTI-WHITE                   1\n",
       "2019.11     ANTI-BLACK                   1\n",
       "            ANTI-WHITE                   3\n",
       "2019.12     ANTI-BLACK                   3\n",
       "2020.01     ANTI-ASIAN                   2\n",
       "            ANTI-BLACK                   4\n",
       "2020.02     ANTI-BLACK                   3\n",
       "            ANTI-WHITE                   2\n",
       "2020.03     ANTI-ASIAN                  15\n",
       "            ANTI-BLACK                   2\n",
       "2020.04     ANTI-ASIAN                   4\n",
       "            ANTI-WHITE                   1\n",
       "2020.05     ANTI-ASIAN                   3\n",
       "            ANTI-BLACK                   1\n",
       "2020.06     ANTI-ASIAN                   1\n",
       "            ANTI-BLACK                   4\n",
       "            ANTI-WHITE                   2\n",
       "2020.07     ANTI-ASIAN                   3\n",
       "            ANTI-BLACK                   4\n",
       "            ANTI-MULTI-RACIAL GROUPS     1\n",
       "            ANTI-WHITE                   2\n",
       "2020.08     ANTI-BLACK                   7\n",
       "            ANTI-WHITE                   2\n",
       "2020.09     ANTI-ASIAN                   1\n",
       "            ANTI-BLACK                   4\n",
       "            ANTI-MULTI-RACIAL GROUPS     1\n",
       "2020.10     ANTI-ASIAN                   1\n",
       "            ANTI-BLACK                   3\n",
       "            ANTI-WHITE                   1\n",
       "2020.11     ANTI-BLACK                   1\n",
       "2020.12     ANTI-ASIAN                   3\n",
       "            ANTI-BLACK                   3\n",
       "2021.01     ANTI-ASIAN                   1\n",
       "            ANTI-BLACK                   4\n",
       "2021.02     ANTI-ASIAN                   9\n",
       "            ANTI-BLACK                   3\n",
       "2021.03     ANTI-ASIAN                  37\n",
       "            ANTI-BLACK                   4\n",
       "2021.12     ANTI-BLACK                   1\n",
       "Name: amount, dtype: int64"
      ]
     },
     "execution_count": 1184,
     "metadata": {},
     "output_type": "execute_result"
    }
   ],
   "source": [
    "count = racist.groupby([\"year_month\", \"Bias Motive Description\"]).count()[\"amount\"]\n",
    "count"
   ]
  },
  {
   "cell_type": "code",
   "execution_count": 1185,
   "metadata": {
    "pycharm": {
     "name": "#%%\n"
    }
   },
   "outputs": [
    {
     "data": {
      "text/plain": [
       "Text(0.5, 1.0, 'the Number of race related hate crime by month from 2019 to 2021')"
      ]
     },
     "execution_count": 1185,
     "metadata": {},
     "output_type": "execute_result"
    },
    {
     "data": {
      "image/png": "[encoded data removed]",
      "text/plain": [
       "<Figure size 1080x504 with 1 Axes>"
      ]
     },
     "metadata": {
      "needs_background": "light"
     },
     "output_type": "display_data"
    }
   ],
   "source": [
    "fig, ax = plt.subplots(figsize=(15,7))\n",
    "count.unstack().plot(ax=ax)\n",
    "ax.set_xlabel(\"Year and Month\")\n",
    "ax.set_ylabel(\"the Number of Crime\")\n",
    "ax.set_title(\"the Number of race related hate crime by month from 2019 to 2021\")"
   ]
  },
  {
   "cell_type": "markdown",
   "metadata": {
    "pycharm": {
     "name": "#%% md\n"
    }
   },
   "source": [
    "## 4-2. Data Analysis and visualization (figure 2)\n",
    "    figure 2 shows the hate crime only related to race.\n",
    "    we can see Anti-black crimes are happened all around that given period in NYC.\n",
    "    Anti-asian crime was starts on early 2010 and decreased for a while and then skyrocketted on early 2021\n",
    "    Anti-white crime happened occasionally but there is no pattern for that."
   ]
  },
  {
   "cell_type": "code",
   "execution_count": 1186,
   "metadata": {
    "pycharm": {
     "name": "#%%\n"
    }
   },
   "outputs": [],
   "source": [
    "# make a table only related to the Anti_asian crime.\n",
    "# make a group by year and make one more coloum named amount and put the number of crime in that month.\n",
    "df3 = df.copy()\n",
    "option2 = [\"ANTI-ASIAN\"]\n",
    "asian_hater = df3.loc[df3[\"Bias Motive Description\"].isin(option2)]\n",
    "asian_hater = asian_hater.sort_values(\"year_month\", ascending= True)\n",
    "asian_hater = asian_hater.reset_index()\n",
    "asian_hater[\"amount\"] =\"\"\n",
    "asian_hater = asian_hater[[\"year_month\",\"amount\"]]\n",
    "asian_hater = asian_hater.groupby([\"year_month\"])[\"year_month\"].count().reset_index(name=\"amount\")"
   ]
  },
  {
   "cell_type": "code",
   "execution_count": 1187,
   "metadata": {
    "pycharm": {
     "name": "#%%\n"
    }
   },
   "outputs": [
    {
     "data": {
      "text/html": [
       "<div>\n",
       "<style scoped>\n",
       "    .dataframe tbody tr th:only-of-type {\n",
       "        vertical-align: middle;\n",
       "    }\n",
       "\n",
       "    .dataframe tbody tr th {\n",
       "        vertical-align: top;\n",
       "    }\n",
       "\n",
       "    .dataframe thead th {\n",
       "        text-align: right;\n",
       "    }\n",
       "</style>\n",
       "<table border=\"1\" class=\"dataframe\">\n",
       "  <thead>\n",
       "    <tr style=\"text-align: right;\">\n",
       "      <th></th>\n",
       "      <th>year_month</th>\n",
       "      <th>amount</th>\n",
       "    </tr>\n",
       "  </thead>\n",
       "  <tbody>\n",
       "    <tr>\n",
       "      <th>0</th>\n",
       "      <td>2019.01</td>\n",
       "      <td>2</td>\n",
       "    </tr>\n",
       "    <tr>\n",
       "      <th>1</th>\n",
       "      <td>2019.02</td>\n",
       "      <td>3</td>\n",
       "    </tr>\n",
       "    <tr>\n",
       "      <th>2</th>\n",
       "      <td>2019.03</td>\n",
       "      <td>7</td>\n",
       "    </tr>\n",
       "    <tr>\n",
       "      <th>3</th>\n",
       "      <td>2019.04</td>\n",
       "      <td>4</td>\n",
       "    </tr>\n",
       "    <tr>\n",
       "      <th>4</th>\n",
       "      <td>2019.05</td>\n",
       "      <td>1</td>\n",
       "    </tr>\n",
       "    <tr>\n",
       "      <th>5</th>\n",
       "      <td>2019.06</td>\n",
       "      <td>4</td>\n",
       "    </tr>\n",
       "    <tr>\n",
       "      <th>6</th>\n",
       "      <td>2019.07</td>\n",
       "      <td>5</td>\n",
       "    </tr>\n",
       "    <tr>\n",
       "      <th>7</th>\n",
       "      <td>2019.08</td>\n",
       "      <td>2</td>\n",
       "    </tr>\n",
       "    <tr>\n",
       "      <th>8</th>\n",
       "      <td>2019.09</td>\n",
       "      <td>1</td>\n",
       "    </tr>\n",
       "    <tr>\n",
       "      <th>9</th>\n",
       "      <td>2019.10</td>\n",
       "      <td>4</td>\n",
       "    </tr>\n",
       "    <tr>\n",
       "      <th>10</th>\n",
       "      <td>2019.11</td>\n",
       "      <td>1</td>\n",
       "    </tr>\n",
       "    <tr>\n",
       "      <th>11</th>\n",
       "      <td>2019.12</td>\n",
       "      <td>3</td>\n",
       "    </tr>\n",
       "    <tr>\n",
       "      <th>12</th>\n",
       "      <td>2020.01</td>\n",
       "      <td>4</td>\n",
       "    </tr>\n",
       "    <tr>\n",
       "      <th>13</th>\n",
       "      <td>2020.02</td>\n",
       "      <td>3</td>\n",
       "    </tr>\n",
       "    <tr>\n",
       "      <th>14</th>\n",
       "      <td>2020.03</td>\n",
       "      <td>2</td>\n",
       "    </tr>\n",
       "    <tr>\n",
       "      <th>15</th>\n",
       "      <td>2020.05</td>\n",
       "      <td>1</td>\n",
       "    </tr>\n",
       "    <tr>\n",
       "      <th>16</th>\n",
       "      <td>2020.06</td>\n",
       "      <td>4</td>\n",
       "    </tr>\n",
       "    <tr>\n",
       "      <th>17</th>\n",
       "      <td>2020.07</td>\n",
       "      <td>4</td>\n",
       "    </tr>\n",
       "    <tr>\n",
       "      <th>18</th>\n",
       "      <td>2020.08</td>\n",
       "      <td>7</td>\n",
       "    </tr>\n",
       "    <tr>\n",
       "      <th>19</th>\n",
       "      <td>2020.09</td>\n",
       "      <td>4</td>\n",
       "    </tr>\n",
       "    <tr>\n",
       "      <th>20</th>\n",
       "      <td>2020.10</td>\n",
       "      <td>3</td>\n",
       "    </tr>\n",
       "    <tr>\n",
       "      <th>21</th>\n",
       "      <td>2020.11</td>\n",
       "      <td>1</td>\n",
       "    </tr>\n",
       "    <tr>\n",
       "      <th>22</th>\n",
       "      <td>2020.12</td>\n",
       "      <td>3</td>\n",
       "    </tr>\n",
       "    <tr>\n",
       "      <th>23</th>\n",
       "      <td>2021.01</td>\n",
       "      <td>4</td>\n",
       "    </tr>\n",
       "    <tr>\n",
       "      <th>24</th>\n",
       "      <td>2021.02</td>\n",
       "      <td>3</td>\n",
       "    </tr>\n",
       "    <tr>\n",
       "      <th>25</th>\n",
       "      <td>2021.03</td>\n",
       "      <td>4</td>\n",
       "    </tr>\n",
       "    <tr>\n",
       "      <th>26</th>\n",
       "      <td>2021.12</td>\n",
       "      <td>1</td>\n",
       "    </tr>\n",
       "  </tbody>\n",
       "</table>\n",
       "</div>"
      ],
      "text/plain": [
       "   year_month  amount\n",
       "0     2019.01       2\n",
       "1     2019.02       3\n",
       "2     2019.03       7\n",
       "3     2019.04       4\n",
       "4     2019.05       1\n",
       "5     2019.06       4\n",
       "6     2019.07       5\n",
       "7     2019.08       2\n",
       "8     2019.09       1\n",
       "9     2019.10       4\n",
       "10    2019.11       1\n",
       "11    2019.12       3\n",
       "12    2020.01       4\n",
       "13    2020.02       3\n",
       "14    2020.03       2\n",
       "15    2020.05       1\n",
       "16    2020.06       4\n",
       "17    2020.07       4\n",
       "18    2020.08       7\n",
       "19    2020.09       4\n",
       "20    2020.10       3\n",
       "21    2020.11       1\n",
       "22    2020.12       3\n",
       "23    2021.01       4\n",
       "24    2021.02       3\n",
       "25    2021.03       4\n",
       "26    2021.12       1"
      ]
     },
     "execution_count": 1187,
     "metadata": {},
     "output_type": "execute_result"
    }
   ],
   "source": [
    "# make a table only related to the Anti_black crime.\n",
    "# make a group by year and make one more coloum named amount and put the number of crime in that month.\n",
    "df4 = df.copy()\n",
    "option3 = [\"ANTI-BLACK\"]\n",
    "black_hater = df4.loc[df4[\"Bias Motive Description\"].isin(option3)]\n",
    "black_hater = black_hater.sort_values(\"year_month\", ascending= True)\n",
    "black_hater = black_hater.reset_index()\n",
    "black_hater[\"amount\"] =\"\"\n",
    "black_hater = black_hater[[\"year_month\",\"amount\"]]\n",
    "black_hater = black_hater.groupby([\"year_month\"])[\"year_month\"].count().reset_index(name=\"amount\")\n",
    "black_hater"
   ]
  },
  {
   "cell_type": "code",
   "execution_count": 1188,
   "metadata": {
    "pycharm": {
     "name": "#%%\n"
    }
   },
   "outputs": [],
   "source": [
    "X = asian_hater[\"year_month\"]\n",
    "y = asian_hater[\"amount\"]"
   ]
  },
  {
   "cell_type": "code",
   "execution_count": 1189,
   "metadata": {
    "pycharm": {
     "name": "#%%\n"
    }
   },
   "outputs": [
    {
     "data": {
      "text/plain": [
       "LinearRegression()"
      ]
     },
     "execution_count": 1189,
     "metadata": {},
     "output_type": "execute_result"
    }
   ],
   "source": [
    "line_fitter = LinearRegression()\n",
    "line_fitter.fit(X.values.reshape(-1,1), y)\n"
   ]
  },
  {
   "cell_type": "code",
   "execution_count": 1190,
   "metadata": {
    "pycharm": {
     "name": "#%%\n"
    }
   },
   "outputs": [
    {
     "data": {
      "image/png": "[encoded data removed]",
      "text/plain": [
       "<Figure size 1080x864 with 1 Axes>"
      ]
     },
     "metadata": {
      "needs_background": "light"
     },
     "output_type": "display_data"
    }
   ],
   "source": [
    "plt.plot(X, y, 'o')\n",
    "plt.plot(X,line_fitter.predict(X.values.reshape(-1,1)))\n",
    "plt.title(\"the number of hate-Asian crime from  2019 to 2021\")\n",
    "plt.xlabel(\"year and month\")\n",
    "plt.ylabel(\"the number of crime\")\n",
    "plt.show()\n"
   ]
  },
  {
   "cell_type": "markdown",
   "metadata": {},
   "source": [
    "## 5-1. Regression line and Machine Learning (figure 3)\n",
    "    figure 3 shows the number of the Hate-Asian crime in NYC between Jan 2019 and March 2021\n",
    "    On march 2020, there are steep increasing of the crime but it goes down.\n",
    "    In 2021 Anti-Asian crime increased again, and on March 2021 the number of crime towards asian came to the top.\n",
    "    with the regression line, we can predict that the hate-asian crime can be increased."
   ]
  },
  {
   "cell_type": "code",
   "execution_count": 1191,
   "metadata": {
    "pycharm": {
     "name": "#%%\n"
    }
   },
   "outputs": [],
   "source": [
    "X = black_hater[\"year_month\"]\n",
    "y = black_hater[\"amount\"]"
   ]
  },
  {
   "cell_type": "code",
   "execution_count": 1192,
   "metadata": {
    "pycharm": {
     "name": "#%%\n"
    }
   },
   "outputs": [
    {
     "data": {
      "text/plain": [
       "LinearRegression()"
      ]
     },
     "execution_count": 1192,
     "metadata": {},
     "output_type": "execute_result"
    }
   ],
   "source": [
    "line_fitter = LinearRegression()\n",
    "line_fitter.fit(X.values.reshape(-1,1), y)"
   ]
  },
  {
   "cell_type": "code",
   "execution_count": 1193,
   "metadata": {
    "pycharm": {
     "name": "#%%\n"
    }
   },
   "outputs": [
    {
     "data": {
      "image/png": "[encoded data removed]",
      "text/plain": [
       "<Figure size 1080x864 with 1 Axes>"
      ]
     },
     "metadata": {
      "needs_background": "light"
     },
     "output_type": "display_data"
    }
   ],
   "source": [
    "plt.plot(X, y, 'o')\n",
    "plt.plot(X,line_fitter.predict(X.values.reshape(-1,1)))\n",
    "plt.title(\"the number of hate-Black crime from  2019 to 2021\")\n",
    "plt.xlabel(\"year and month\")\n",
    "plt.ylabel(\"the number of crime\")\n",
    "plt.show()\n"
   ]
  },
  {
   "cell_type": "markdown",
   "metadata": {},
   "source": [
    "## 5-2. Regression line and Machine Learning (figure 4)\n",
    "    figure 4 shows the number of the Hate-Black crime in NYC between Jan 2019 and March 2021\n",
    "    with the regression line, we can assume that the hate-black crimes were keep steady all over that period.\n",
    "    Since regression line neither increased nor decreased, we can predict that the crime can be steady in the future."
   ]
  },
  {
   "cell_type": "markdown",
   "metadata": {
    "pycharm": {
     "name": "#%% md\n"
    }
   },
   "source": [
    "## 6. Insight Attained\n",
    "    In this project, we can see the crime pattern in NYC between January 2019 to March 2021.\n",
    "    In 2019, we can see there is almost no hate crime toward asian in the NYC.\n",
    "    However, when Covid starts in the US on March 2020 and we can see that the Hate-Asian crime in the NYC increased from that time.\n",
    "    As I assumed, the Hate crime toward asian has been increased and keep increasing at the moment.\n",
    "\n",
    "    On the other hand. I expect the \"black lives matter\" movement should decrease the number of crime toward black people.\n",
    "    But Anti-Black crime were happened steadly in that given period.\n",
    "    By those analysis, we can assumed that the BLM movement didnt affact to the actual Anti-black hate crime a lot.\n",
    "\n",
    "    It seems covid is almost end game. Thanks to the vaccins, CDC announced that we can actually go back to the normal life without the mask.\n",
    "    Still, however, there are many hate crime commited in the world including US.\n",
    "\n",
    "    United States of America is born to be melting pot. It was built by the immigrants.\n",
    "    But unlike others, many asians are still considered as an alien, a foreigner, even we are not the first generation immigrant.\n",
    "    question like \"Where are you REALLY from\" is one of the most common question asked to Asian American.\n",
    "    After covid, it goes viral and it became more violent. \"Go back to your country!\", \"You spead your country's virus\"\n",
    "    was even considered mild since many people even murdered theseday.\n",
    "\n",
    "    from this project, it was sad that still Asian Crime is increasing, and the big movement like BLM could not decrease the hate crime.\n",
    "    However, I really hope that people are more and more enlighted for no more hate crime happens in this diverse country. \n"
   ]
  }
 ],
 "metadata": {
  "kernelspec": {
   "display_name": "Python 3",
   "language": "python",
   "name": "python3"
  },
  "language_info": {
   "codemirror_mode": {
    "name": "ipython",
    "version": 3
   },
   "file_extension": ".py",
   "mimetype": "text/x-python",
   "name": "python",
   "nbconvert_exporter": "python",
   "pygments_lexer": "ipython3",
   "version": "3.8.5"
  }
 },
 "nbformat": 4,
 "nbformat_minor": 1
}
